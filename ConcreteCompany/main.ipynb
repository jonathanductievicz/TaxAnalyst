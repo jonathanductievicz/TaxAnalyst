{
 "cells": [
  {
   "cell_type": "markdown",
   "id": "24bee94b",
   "metadata": {},
   "source": [
    "# Empresa: Concreteira\n",
    "## Análise Completa\n",
    "### Resumo dos Dados:\n",
    "\n",
    "- Faturamento: R$ 4.500.000,00\n",
    "- Custo totais: 80% do faturamento\n",
    "    - Cimento: 45% dos custos\n",
    "    - Areia: 15% dos custos\n",
    "    - Brita 0: 7,50% dos custos\n",
    "    - Brita 1: 7,50% dos custos\n",
    "    - Manutenção: 5% dos custos\n",
    "    - Combustivel: 5% dos custos\n",
    "    - Aditivos, águas e outros custos diversos: 5% dos custos\n",
    "    - Folha de pagamento e tributos da folha: 10% dos custos\n",
    "\n",
    "- Lucro Bruto: 20% do faturamento\n",
    "- ISS: 5% do faturamento - 40% de abatimento \n",
    "- Tributação: Lucro Real (Estimativa IRPJ e CSLL)"
   ]
  },
  {
   "cell_type": "code",
   "execution_count": 9,
   "id": "275a5d60",
   "metadata": {},
   "outputs": [
    {
     "name": "stdout",
     "output_type": "stream",
     "text": [
      "O Lucro Bruto total é de: R$ 900,000.00\n"
     ]
    }
   ],
   "source": [
    "import pandas as pd\n",
    "import matplotlib.pyplot as plt\n",
    "\n",
    "# Faturamento e Custos\n",
    "faturamento = 4_500_000\n",
    "custos_totais = faturamento * 0.80\n",
    "lucro_bruto = faturamento - custos_totais\n",
    "\n",
    "print(f\"O Lucro Bruto total é de: R$ {lucro_bruto:,.2f}\")"
   ]
  },
  {
   "cell_type": "code",
   "execution_count": 10,
   "id": "9a2cb07f",
   "metadata": {},
   "outputs": [
    {
     "name": "stdout",
     "output_type": "stream",
     "text": [
      "{'Cimento': 1620000.0, 'Areia': 540000.0, 'Brita 0': 270000.0, 'Brita 1': 270000.0, 'Manutenção': 180000.0, 'Combustíveis': 180000.0, 'Aditivos, água, outras despesas diversas': 180000.0, 'Folha e custos do DP': 360000.0}\n"
     ]
    }
   ],
   "source": [
    "# Estrutura de custos\n",
    "custos = {\n",
    "    'Cimento': custos_totais * 0.45,\n",
    "    'Areia': custos_totais * 0.15,\n",
    "    'Brita 0': custos_totais * 0.075,\n",
    "    'Brita 1': custos_totais * 0.075,\n",
    "    'Manutenção': custos_totais * 0.05,\n",
    "    'Combustíveis': custos_totais * 0.05,\n",
    "    'Aditivos, água, outras despesas diversas': custos_totais * 0.05,\n",
    "    'Folha e custos do DP': custos_totais * 0.10\n",
    "}\n",
    "\n",
    "print(custos)"
   ]
  },
  {
   "cell_type": "code",
   "execution_count": 12,
   "id": "dbafabc2",
   "metadata": {},
   "outputs": [
    {
     "data": {
      "text/html": [
       "<div>\n",
       "<style scoped>\n",
       "    .dataframe tbody tr th:only-of-type {\n",
       "        vertical-align: middle;\n",
       "    }\n",
       "\n",
       "    .dataframe tbody tr th {\n",
       "        vertical-align: top;\n",
       "    }\n",
       "\n",
       "    .dataframe thead th {\n",
       "        text-align: right;\n",
       "    }\n",
       "</style>\n",
       "<table border=\"1\" class=\"dataframe\">\n",
       "  <thead>\n",
       "    <tr style=\"text-align: right;\">\n",
       "      <th></th>\n",
       "      <th>Categoria</th>\n",
       "      <th>Valor</th>\n",
       "      <th>Percentual sobre Custos</th>\n",
       "    </tr>\n",
       "  </thead>\n",
       "  <tbody>\n",
       "    <tr>\n",
       "      <th>0</th>\n",
       "      <td>Cimento</td>\n",
       "      <td>1620000.0</td>\n",
       "      <td>45.0</td>\n",
       "    </tr>\n",
       "    <tr>\n",
       "      <th>1</th>\n",
       "      <td>Areia</td>\n",
       "      <td>540000.0</td>\n",
       "      <td>15.0</td>\n",
       "    </tr>\n",
       "    <tr>\n",
       "      <th>2</th>\n",
       "      <td>Brita 0</td>\n",
       "      <td>270000.0</td>\n",
       "      <td>7.5</td>\n",
       "    </tr>\n",
       "    <tr>\n",
       "      <th>3</th>\n",
       "      <td>Brita 1</td>\n",
       "      <td>270000.0</td>\n",
       "      <td>7.5</td>\n",
       "    </tr>\n",
       "    <tr>\n",
       "      <th>4</th>\n",
       "      <td>Manutenção</td>\n",
       "      <td>180000.0</td>\n",
       "      <td>5.0</td>\n",
       "    </tr>\n",
       "    <tr>\n",
       "      <th>5</th>\n",
       "      <td>Combustíveis</td>\n",
       "      <td>180000.0</td>\n",
       "      <td>5.0</td>\n",
       "    </tr>\n",
       "    <tr>\n",
       "      <th>6</th>\n",
       "      <td>Aditivos, água, outras despesas diversas</td>\n",
       "      <td>180000.0</td>\n",
       "      <td>5.0</td>\n",
       "    </tr>\n",
       "    <tr>\n",
       "      <th>7</th>\n",
       "      <td>Folha e custos do DP</td>\n",
       "      <td>360000.0</td>\n",
       "      <td>10.0</td>\n",
       "    </tr>\n",
       "  </tbody>\n",
       "</table>\n",
       "</div>"
      ],
      "text/plain": [
       "                                  Categoria      Valor  \\\n",
       "0                                   Cimento  1620000.0   \n",
       "1                                     Areia   540000.0   \n",
       "2                                   Brita 0   270000.0   \n",
       "3                                   Brita 1   270000.0   \n",
       "4                                Manutenção   180000.0   \n",
       "5                              Combustíveis   180000.0   \n",
       "6  Aditivos, água, outras despesas diversas   180000.0   \n",
       "7                      Folha e custos do DP   360000.0   \n",
       "\n",
       "   Percentual sobre Custos  \n",
       "0                     45.0  \n",
       "1                     15.0  \n",
       "2                      7.5  \n",
       "3                      7.5  \n",
       "4                      5.0  \n",
       "5                      5.0  \n",
       "6                      5.0  \n",
       "7                     10.0  "
      ]
     },
     "metadata": {},
     "output_type": "display_data"
    }
   ],
   "source": [
    "# Criando DataFrame\n",
    "df_custos = pd.DataFrame(list(custos.items()), columns=['Categoria', 'Valor'])\n",
    "df_custos['Percentual sobre Custos'] = (df_custos['Valor'] / custos_totais) * 100\n",
    "\n",
    "display(df_custos)"
   ]
  },
  {
   "cell_type": "code",
   "execution_count": 31,
   "id": "a06c9f89",
   "metadata": {},
   "outputs": [
    {
     "name": "stdout",
     "output_type": "stream",
     "text": [
      "Valor do ISS a recolher: R$ 135,000.00\n"
     ]
    }
   ],
   "source": [
    "# Cálculo ISS\n",
    "iss = (faturamento * 0.60) * 0.05\n",
    "print(f\"Valor do ISS a recolher: R$ {iss:,.2f}\")\n"
   ]
  },
  {
   "cell_type": "code",
   "execution_count": 33,
   "id": "cf07c854",
   "metadata": {},
   "outputs": [
    {
     "name": "stdout",
     "output_type": "stream",
     "text": [
      "O valor do PIS a recolher: R$ 13,500.00\n",
      "O valor do COFINS a recolher: R$ 68,400.00\n",
      "O valor total de PIS + COFINS: R$ 81,900.00\n"
     ]
    }
   ],
   "source": [
    "# Cálculo PIS e COFINS\n",
    "credito_pis = custos_totais * 0.015\n",
    "credito_cofins = custos_totais * 0.076\n",
    "\n",
    "pis = (faturamento * 0.015) - credito_pis\n",
    "cofins = (faturamento * 0.076) - credito_cofins\n",
    "\n",
    "print(f\"O valor do PIS a recolher: R$ {pis:,.2f}\")\n",
    "print(f\"O valor do COFINS a recolher: R$ {cofins:,.2f}\")\n",
    "print(f\"O valor total de PIS + COFINS: R$ {pis + cofins:,.2f}\")"
   ]
  },
  {
   "cell_type": "code",
   "execution_count": 35,
   "id": "e1cdc013",
   "metadata": {},
   "outputs": [
    {
     "name": "stdout",
     "output_type": "stream",
     "text": [
      "O valor do IRPJ: R$ 225,000.00\n",
      "O valor do CSLL: R$ 81,000.00\n",
      "O valor total de IRPJ + CSLL: R$ 306,000.00\n"
     ]
    }
   ],
   "source": [
    "# Cálculo da base do IRPJ\n",
    "base_irpj = faturamento - custos_totais\n",
    "\n",
    "# Cálculo do IRPJ\n",
    "# Alíquota básica de 15%\n",
    "irpj_basico = base_irpj * 0.15\n",
    "\n",
    "# Adicional de 10% se a base for >= 240000\n",
    "adicional_irpj = 0\n",
    "if base_irpj >= 240000:\n",
    "    adicional_irpj = base_irpj * 0.10\n",
    "\n",
    "# IRPJ total\n",
    "irpj_total = irpj_basico + adicional_irpj\n",
    "\n",
    "# Cálculo CSLL\n",
    "csll = base_irpj * 0.09\n",
    "\n",
    "print(f\"O valor do IRPJ: R$ {irpj_total:,.2f}\")\n",
    "print(f\"O valor do CSLL: R$ {csll:,.2f}\")\n",
    "print(f\"O valor total de IRPJ + CSLL: R$ {irpj_total + csll:,.2f}\")"
   ]
  },
  {
   "cell_type": "code",
   "execution_count": null,
   "id": "8d50f8a8",
   "metadata": {},
   "outputs": [],
   "source": []
  }
 ],
 "metadata": {
  "kernelspec": {
   "display_name": ".venv",
   "language": "python",
   "name": "python3"
  },
  "language_info": {
   "codemirror_mode": {
    "name": "ipython",
    "version": 3
   },
   "file_extension": ".py",
   "mimetype": "text/x-python",
   "name": "python",
   "nbconvert_exporter": "python",
   "pygments_lexer": "ipython3",
   "version": "3.13.3"
  }
 },
 "nbformat": 4,
 "nbformat_minor": 5
}
